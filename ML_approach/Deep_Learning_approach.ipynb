{
 "cells": [
  {
   "cell_type": "code",
   "execution_count": 46,
   "metadata": {},
   "outputs": [],
   "source": [
    "import numpy as np\n",
    "import matplotlib.pyplot as plt\n",
    "import pandas as pd\n",
    "import pickle\n",
    "import os\n",
    "from sklearn.preprocessing import StandardScaler\n",
    "from sklearn.model_selection import train_test_split, GridSearchCV\n",
    "from sklearn.metrics import mean_absolute_error, r2_score\n",
    "import keras\n",
    "from keras.models import Sequential\n",
    "from keras.layers import Dense"
   ]
  },
  {
   "cell_type": "code",
   "execution_count": 4,
   "metadata": {},
   "outputs": [],
   "source": [
    "params = {}"
   ]
  },
  {
   "cell_type": "code",
   "execution_count": 5,
   "metadata": {},
   "outputs": [],
   "source": [
    "train_X = pd.read_csv(\"./data/train/train_x.csv\")\n",
    "train_y = pd.read_csv(\"./data/train/train_y.csv\")\n",
    "\n",
    "test_x = pd.read_csv(\"./data/test/test_x.csv\")\n",
    "test_y = pd.read_csv(\"./data/test/test_y.csv\")"
   ]
  },
  {
   "cell_type": "code",
   "execution_count": 6,
   "metadata": {},
   "outputs": [
    {
     "name": "stderr",
     "output_type": "stream",
     "text": [
      "C:\\Users\\DR25798\\AppData\\Local\\Continuum\\anaconda3\\lib\\site-packages\\sklearn\\preprocessing\\data.py:645: DataConversionWarning: Data with input dtype int64, float64 were all converted to float64 by StandardScaler.\n",
      "  return self.partial_fit(X, y)\n",
      "C:\\Users\\DR25798\\AppData\\Local\\Continuum\\anaconda3\\lib\\site-packages\\sklearn\\base.py:464: DataConversionWarning: Data with input dtype int64, float64 were all converted to float64 by StandardScaler.\n",
      "  return self.fit(X, **fit_params).transform(X)\n",
      "C:\\Users\\DR25798\\AppData\\Local\\Continuum\\anaconda3\\lib\\site-packages\\ipykernel_launcher.py:5: DataConversionWarning: Data with input dtype int64, float64 were all converted to float64 by StandardScaler.\n",
      "  \"\"\"\n"
     ]
    }
   ],
   "source": [
    "sc_x = StandardScaler()\n",
    "sc_y = StandardScaler()\n",
    "\n",
    "X_train = sc_x.fit_transform(train_X)\n",
    "X_test = sc_x.transform(test_x)\n",
    "\n",
    "y_train = sc_y.fit_transform(train_y)\n",
    "y_test = sc_y.transform(test_y)"
   ]
  },
  {
   "cell_type": "code",
   "execution_count": 9,
   "metadata": {},
   "outputs": [],
   "source": [
    "input_neuron = len(test_x.columns)"
   ]
  },
  {
   "cell_type": "code",
   "execution_count": 32,
   "metadata": {},
   "outputs": [
    {
     "name": "stderr",
     "output_type": "stream",
     "text": [
      "C:\\Users\\DR25798\\AppData\\Local\\Continuum\\anaconda3\\lib\\site-packages\\ipykernel_launcher.py:2: UserWarning: Update your `Dense` call to the Keras 2 API: `Dense(activation=\"relu\", input_dim=34, units=18, kernel_initializer=\"uniform\")`\n",
      "  \n",
      "C:\\Users\\DR25798\\AppData\\Local\\Continuum\\anaconda3\\lib\\site-packages\\ipykernel_launcher.py:3: UserWarning: Update your `Dense` call to the Keras 2 API: `Dense(activation=\"relu\", units=6, kernel_initializer=\"uniform\")`\n",
      "  This is separate from the ipykernel package so we can avoid doing imports until\n",
      "C:\\Users\\DR25798\\AppData\\Local\\Continuum\\anaconda3\\lib\\site-packages\\ipykernel_launcher.py:4: UserWarning: Update your `Dense` call to the Keras 2 API: `Dense(activation=\"relu\", units=6, kernel_initializer=\"uniform\")`\n",
      "  after removing the cwd from sys.path.\n",
      "C:\\Users\\DR25798\\AppData\\Local\\Continuum\\anaconda3\\lib\\site-packages\\ipykernel_launcher.py:5: UserWarning: Update your `Dense` call to the Keras 2 API: `Dense(activation=\"linear\", units=1, kernel_initializer=\"uniform\")`\n",
      "  \"\"\"\n",
      "C:\\Users\\DR25798\\AppData\\Local\\Continuum\\anaconda3\\lib\\site-packages\\ipykernel_launcher.py:9: UserWarning: The `nb_epoch` argument in `fit` has been renamed `epochs`.\n",
      "  if __name__ == '__main__':\n"
     ]
    },
    {
     "name": "stdout",
     "output_type": "stream",
     "text": [
      "Train on 256 samples, validate on 64 samples\n",
      "Epoch 1/100\n",
      "256/256 [==============================] - 1s 5ms/step - loss: 1.0075 - mean_absolute_error: 0.6848 - val_loss: 0.9730 - val_mean_absolute_error: 0.7463\n",
      "Epoch 2/100\n",
      "256/256 [==============================] - 0s 173us/step - loss: 1.0061 - mean_absolute_error: 0.6835 - val_loss: 0.9789 - val_mean_absolute_error: 0.7494\n",
      "Epoch 3/100\n",
      "256/256 [==============================] - 0s 265us/step - loss: 1.0046 - mean_absolute_error: 0.6819 - val_loss: 0.9844 - val_mean_absolute_error: 0.7524\n",
      "Epoch 4/100\n",
      "256/256 [==============================] - 0s 210us/step - loss: 1.0031 - mean_absolute_error: 0.6801 - val_loss: 0.9907 - val_mean_absolute_error: 0.7559\n",
      "Epoch 5/100\n",
      "256/256 [==============================] - 0s 307us/step - loss: 1.0006 - mean_absolute_error: 0.6780 - val_loss: 0.9959 - val_mean_absolute_error: 0.7590\n",
      "Epoch 6/100\n",
      "256/256 [==============================] - 0s 196us/step - loss: 0.9974 - mean_absolute_error: 0.6754 - val_loss: 1.0015 - val_mean_absolute_error: 0.7628\n",
      "Epoch 7/100\n",
      "256/256 [==============================] - 0s 222us/step - loss: 0.9912 - mean_absolute_error: 0.6718 - val_loss: 1.0042 - val_mean_absolute_error: 0.7654\n",
      "Epoch 8/100\n",
      "256/256 [==============================] - 0s 166us/step - loss: 0.9806 - mean_absolute_error: 0.6656 - val_loss: 1.0025 - val_mean_absolute_error: 0.7658\n",
      "Epoch 9/100\n",
      "256/256 [==============================] - 0s 180us/step - loss: 0.9624 - mean_absolute_error: 0.6553 - val_loss: 0.9960 - val_mean_absolute_error: 0.7642\n",
      "Epoch 10/100\n",
      "256/256 [==============================] - 0s 378us/step - loss: 0.9300 - mean_absolute_error: 0.6379 - val_loss: 0.9801 - val_mean_absolute_error: 0.7581\n",
      "Epoch 11/100\n",
      "256/256 [==============================] - 0s 416us/step - loss: 0.8773 - mean_absolute_error: 0.6102 - val_loss: 0.9534 - val_mean_absolute_error: 0.7465\n",
      "Epoch 12/100\n",
      "256/256 [==============================] - 0s 224us/step - loss: 0.8034 - mean_absolute_error: 0.5694 - val_loss: 0.9139 - val_mean_absolute_error: 0.7283\n",
      "Epoch 13/100\n",
      "256/256 [==============================] - 0s 263us/step - loss: 0.7079 - mean_absolute_error: 0.5100 - val_loss: 0.8619 - val_mean_absolute_error: 0.7032\n",
      "Epoch 14/100\n",
      "256/256 [==============================] - 0s 161us/step - loss: 0.5847 - mean_absolute_error: 0.4313 - val_loss: 0.8038 - val_mean_absolute_error: 0.6713\n",
      "Epoch 15/100\n",
      "256/256 [==============================] - 0s 339us/step - loss: 0.4643 - mean_absolute_error: 0.3435 - val_loss: 0.7492 - val_mean_absolute_error: 0.6404\n",
      "Epoch 16/100\n",
      "256/256 [==============================] - 0s 288us/step - loss: 0.3568 - mean_absolute_error: 0.2825 - val_loss: 0.7120 - val_mean_absolute_error: 0.6194\n",
      "Epoch 17/100\n",
      "256/256 [==============================] - 0s 127us/step - loss: 0.2809 - mean_absolute_error: 0.2692 - val_loss: 0.6898 - val_mean_absolute_error: 0.6133\n",
      "Epoch 18/100\n",
      "256/256 [==============================] - 0s 505us/step - loss: 0.2153 - mean_absolute_error: 0.2649 - val_loss: 0.6754 - val_mean_absolute_error: 0.6148\n",
      "Epoch 19/100\n",
      "256/256 [==============================] - 0s 274us/step - loss: 0.1533 - mean_absolute_error: 0.2489 - val_loss: 0.6539 - val_mean_absolute_error: 0.6054\n",
      "Epoch 20/100\n",
      "256/256 [==============================] - 0s 109us/step - loss: 0.1156 - mean_absolute_error: 0.2321 - val_loss: 0.6347 - val_mean_absolute_error: 0.5955\n",
      "Epoch 21/100\n",
      "256/256 [==============================] - 0s 295us/step - loss: 0.0822 - mean_absolute_error: 0.1956 - val_loss: 0.6148 - val_mean_absolute_error: 0.5806\n",
      "Epoch 22/100\n",
      "256/256 [==============================] - 0s 103us/step - loss: 0.0534 - mean_absolute_error: 0.1486 - val_loss: 0.5982 - val_mean_absolute_error: 0.5661\n",
      "Epoch 23/100\n",
      "256/256 [==============================] - 0s 387us/step - loss: 0.0390 - mean_absolute_error: 0.1248 - val_loss: 0.5907 - val_mean_absolute_error: 0.5578\n",
      "Epoch 24/100\n",
      "256/256 [==============================] - 0s 389us/step - loss: 0.0319 - mean_absolute_error: 0.1077 - val_loss: 0.5842 - val_mean_absolute_error: 0.5498\n",
      "Epoch 25/100\n",
      "256/256 [==============================] - 0s 331us/step - loss: 0.0297 - mean_absolute_error: 0.1012 - val_loss: 0.5803 - val_mean_absolute_error: 0.5457\n",
      "Epoch 26/100\n",
      "256/256 [==============================] - 0s 248us/step - loss: 0.0288 - mean_absolute_error: 0.0990 - val_loss: 0.5772 - val_mean_absolute_error: 0.5435\n",
      "Epoch 27/100\n",
      "256/256 [==============================] - 0s 112us/step - loss: 0.0280 - mean_absolute_error: 0.0971 - val_loss: 0.5757 - val_mean_absolute_error: 0.5432\n",
      "Epoch 28/100\n",
      "256/256 [==============================] - 0s 241us/step - loss: 0.0274 - mean_absolute_error: 0.0955 - val_loss: 0.5735 - val_mean_absolute_error: 0.5426\n",
      "Epoch 29/100\n",
      "256/256 [==============================] - 0s 272us/step - loss: 0.0268 - mean_absolute_error: 0.0944 - val_loss: 0.5712 - val_mean_absolute_error: 0.5425\n",
      "Epoch 30/100\n",
      "256/256 [==============================] - 0s 157us/step - loss: 0.0260 - mean_absolute_error: 0.0947 - val_loss: 0.5673 - val_mean_absolute_error: 0.5412\n",
      "Epoch 31/100\n",
      "256/256 [==============================] - 0s 317us/step - loss: 0.0255 - mean_absolute_error: 0.0934 - val_loss: 0.5658 - val_mean_absolute_error: 0.5412\n",
      "Epoch 32/100\n",
      "256/256 [==============================] - 0s 135us/step - loss: 0.0250 - mean_absolute_error: 0.0924 - val_loss: 0.5648 - val_mean_absolute_error: 0.5414\n",
      "Epoch 33/100\n",
      "256/256 [==============================] - 0s 139us/step - loss: 0.0244 - mean_absolute_error: 0.0912 - val_loss: 0.5642 - val_mean_absolute_error: 0.5409\n",
      "Epoch 34/100\n",
      "256/256 [==============================] - 0s 240us/step - loss: 0.0240 - mean_absolute_error: 0.0898 - val_loss: 0.5622 - val_mean_absolute_error: 0.5403\n",
      "Epoch 35/100\n",
      "256/256 [==============================] - 0s 172us/step - loss: 0.0234 - mean_absolute_error: 0.0892 - val_loss: 0.5594 - val_mean_absolute_error: 0.5394\n",
      "Epoch 36/100\n",
      "256/256 [==============================] - 0s 256us/step - loss: 0.0230 - mean_absolute_error: 0.0888 - val_loss: 0.5577 - val_mean_absolute_error: 0.5390\n",
      "Epoch 37/100\n",
      "256/256 [==============================] - 0s 177us/step - loss: 0.0226 - mean_absolute_error: 0.0892 - val_loss: 0.5544 - val_mean_absolute_error: 0.5376\n",
      "Epoch 38/100\n",
      "256/256 [==============================] - 0s 273us/step - loss: 0.0221 - mean_absolute_error: 0.0878 - val_loss: 0.5538 - val_mean_absolute_error: 0.5376\n",
      "Epoch 39/100\n",
      "256/256 [==============================] - 0s 118us/step - loss: 0.0215 - mean_absolute_error: 0.0866 - val_loss: 0.5537 - val_mean_absolute_error: 0.5377\n",
      "Epoch 40/100\n",
      "256/256 [==============================] - 0s 236us/step - loss: 0.0211 - mean_absolute_error: 0.0857 - val_loss: 0.5520 - val_mean_absolute_error: 0.5364\n",
      "Epoch 41/100\n",
      "256/256 [==============================] - 0s 192us/step - loss: 0.0208 - mean_absolute_error: 0.0844 - val_loss: 0.5506 - val_mean_absolute_error: 0.5357\n",
      "Epoch 42/100\n",
      "256/256 [==============================] - 0s 113us/step - loss: 0.0203 - mean_absolute_error: 0.0841 - val_loss: 0.5491 - val_mean_absolute_error: 0.5343\n",
      "Epoch 43/100\n",
      "256/256 [==============================] - 0s 106us/step - loss: 0.0199 - mean_absolute_error: 0.0836 - val_loss: 0.5459 - val_mean_absolute_error: 0.5330\n",
      "Epoch 44/100\n",
      "256/256 [==============================] - 0s 161us/step - loss: 0.0196 - mean_absolute_error: 0.0831 - val_loss: 0.5453 - val_mean_absolute_error: 0.5332\n",
      "Epoch 45/100\n",
      "256/256 [==============================] - 0s 202us/step - loss: 0.0194 - mean_absolute_error: 0.0826 - val_loss: 0.5450 - val_mean_absolute_error: 0.5333\n",
      "Epoch 46/100\n",
      "256/256 [==============================] - 0s 163us/step - loss: 0.0190 - mean_absolute_error: 0.0813 - val_loss: 0.5456 - val_mean_absolute_error: 0.5336\n",
      "Epoch 47/100\n",
      "256/256 [==============================] - 0s 260us/step - loss: 0.0187 - mean_absolute_error: 0.0802 - val_loss: 0.5446 - val_mean_absolute_error: 0.5335\n",
      "Epoch 48/100\n",
      "256/256 [==============================] - 0s 248us/step - loss: 0.0185 - mean_absolute_error: 0.0797 - val_loss: 0.5432 - val_mean_absolute_error: 0.5324\n",
      "Epoch 49/100\n",
      "256/256 [==============================] - 0s 194us/step - loss: 0.0182 - mean_absolute_error: 0.0787 - val_loss: 0.5414 - val_mean_absolute_error: 0.5312\n",
      "Epoch 50/100\n",
      "256/256 [==============================] - 0s 263us/step - loss: 0.0180 - mean_absolute_error: 0.0786 - val_loss: 0.5403 - val_mean_absolute_error: 0.5306\n",
      "Epoch 51/100\n",
      "256/256 [==============================] - 0s 286us/step - loss: 0.0178 - mean_absolute_error: 0.0783 - val_loss: 0.5394 - val_mean_absolute_error: 0.5297\n",
      "Epoch 52/100\n",
      "256/256 [==============================] - 0s 133us/step - loss: 0.0176 - mean_absolute_error: 0.0771 - val_loss: 0.5395 - val_mean_absolute_error: 0.5298\n",
      "Epoch 53/100\n",
      "256/256 [==============================] - 0s 231us/step - loss: 0.0173 - mean_absolute_error: 0.0766 - val_loss: 0.5379 - val_mean_absolute_error: 0.5283\n",
      "Epoch 54/100\n",
      "256/256 [==============================] - 0s 477us/step - loss: 0.0172 - mean_absolute_error: 0.0764 - val_loss: 0.5375 - val_mean_absolute_error: 0.5283\n",
      "Epoch 55/100\n",
      "256/256 [==============================] - 0s 90us/step - loss: 0.0171 - mean_absolute_error: 0.0762 - val_loss: 0.5355 - val_mean_absolute_error: 0.5265\n",
      "Epoch 56/100\n",
      "256/256 [==============================] - 0s 301us/step - loss: 0.0169 - mean_absolute_error: 0.0759 - val_loss: 0.5350 - val_mean_absolute_error: 0.5260\n",
      "Epoch 57/100\n",
      "256/256 [==============================] - 0s 170us/step - loss: 0.0166 - mean_absolute_error: 0.0748 - val_loss: 0.5350 - val_mean_absolute_error: 0.5261\n",
      "Epoch 58/100\n",
      "256/256 [==============================] - 0s 238us/step - loss: 0.0164 - mean_absolute_error: 0.0739 - val_loss: 0.5327 - val_mean_absolute_error: 0.5239\n",
      "Epoch 59/100\n",
      "256/256 [==============================] - 0s 273us/step - loss: 0.0165 - mean_absolute_error: 0.0740 - val_loss: 0.5320 - val_mean_absolute_error: 0.5239\n",
      "Epoch 60/100\n",
      "256/256 [==============================] - 0s 71us/step - loss: 0.0162 - mean_absolute_error: 0.0738 - val_loss: 0.5293 - val_mean_absolute_error: 0.5212\n",
      "Epoch 61/100\n",
      "256/256 [==============================] - 0s 66us/step - loss: 0.0161 - mean_absolute_error: 0.0733 - val_loss: 0.5284 - val_mean_absolute_error: 0.5208\n",
      "Epoch 62/100\n",
      "256/256 [==============================] - 0s 141us/step - loss: 0.0159 - mean_absolute_error: 0.0728 - val_loss: 0.5279 - val_mean_absolute_error: 0.5199\n",
      "Epoch 63/100\n",
      "256/256 [==============================] - 0s 249us/step - loss: 0.0157 - mean_absolute_error: 0.0719 - val_loss: 0.5271 - val_mean_absolute_error: 0.5191\n",
      "Epoch 64/100\n",
      "256/256 [==============================] - 0s 137us/step - loss: 0.0158 - mean_absolute_error: 0.0722 - val_loss: 0.5256 - val_mean_absolute_error: 0.5185\n",
      "Epoch 65/100\n",
      "256/256 [==============================] - 0s 219us/step - loss: 0.0155 - mean_absolute_error: 0.0711 - val_loss: 0.5252 - val_mean_absolute_error: 0.5185\n",
      "Epoch 66/100\n",
      "256/256 [==============================] - 0s 262us/step - loss: 0.0154 - mean_absolute_error: 0.0708 - val_loss: 0.5240 - val_mean_absolute_error: 0.5177\n",
      "Epoch 67/100\n",
      "256/256 [==============================] - 0s 118us/step - loss: 0.0152 - mean_absolute_error: 0.0707 - val_loss: 0.5227 - val_mean_absolute_error: 0.5165\n",
      "Epoch 68/100\n",
      "256/256 [==============================] - 0s 95us/step - loss: 0.0151 - mean_absolute_error: 0.0699 - val_loss: 0.5220 - val_mean_absolute_error: 0.5163\n",
      "Epoch 69/100\n",
      "256/256 [==============================] - 0s 317us/step - loss: 0.0150 - mean_absolute_error: 0.0699 - val_loss: 0.5203 - val_mean_absolute_error: 0.5152\n",
      "Epoch 70/100\n",
      "256/256 [==============================] - 0s 139us/step - loss: 0.0150 - mean_absolute_error: 0.0706 - val_loss: 0.5181 - val_mean_absolute_error: 0.5148\n",
      "Epoch 71/100\n",
      "256/256 [==============================] - 0s 238us/step - loss: 0.0149 - mean_absolute_error: 0.0704 - val_loss: 0.5172 - val_mean_absolute_error: 0.5144\n",
      "Epoch 72/100\n",
      "256/256 [==============================] - 0s 226us/step - loss: 0.0146 - mean_absolute_error: 0.0691 - val_loss: 0.5159 - val_mean_absolute_error: 0.5136\n",
      "Epoch 73/100\n",
      "256/256 [==============================] - 0s 224us/step - loss: 0.0146 - mean_absolute_error: 0.0687 - val_loss: 0.5151 - val_mean_absolute_error: 0.5128\n",
      "Epoch 74/100\n",
      "256/256 [==============================] - 0s 168us/step - loss: 0.0144 - mean_absolute_error: 0.0682 - val_loss: 0.5131 - val_mean_absolute_error: 0.5116\n",
      "Epoch 75/100\n",
      "256/256 [==============================] - 0s 256us/step - loss: 0.0143 - mean_absolute_error: 0.0685 - val_loss: 0.5119 - val_mean_absolute_error: 0.5113\n",
      "Epoch 76/100\n",
      "256/256 [==============================] - 0s 267us/step - loss: 0.0143 - mean_absolute_error: 0.0689 - val_loss: 0.5099 - val_mean_absolute_error: 0.5114\n",
      "Epoch 77/100\n",
      "256/256 [==============================] - 0s 139us/step - loss: 0.0140 - mean_absolute_error: 0.0684 - val_loss: 0.5089 - val_mean_absolute_error: 0.5097\n",
      "Epoch 78/100\n",
      "256/256 [==============================] - 0s 250us/step - loss: 0.0140 - mean_absolute_error: 0.0674 - val_loss: 0.5074 - val_mean_absolute_error: 0.5110\n",
      "Epoch 79/100\n",
      "256/256 [==============================] - 0s 199us/step - loss: 0.0139 - mean_absolute_error: 0.0669 - val_loss: 0.5059 - val_mean_absolute_error: 0.5094\n",
      "Epoch 80/100\n",
      "256/256 [==============================] - 0s 61us/step - loss: 0.0137 - mean_absolute_error: 0.0668 - val_loss: 0.5050 - val_mean_absolute_error: 0.5097\n",
      "Epoch 81/100\n",
      "256/256 [==============================] - 0s 212us/step - loss: 0.0136 - mean_absolute_error: 0.0656 - val_loss: 0.5039 - val_mean_absolute_error: 0.5097\n",
      "Epoch 82/100\n",
      "256/256 [==============================] - 0s 119us/step - loss: 0.0136 - mean_absolute_error: 0.0655 - val_loss: 0.5032 - val_mean_absolute_error: 0.5091\n",
      "Epoch 83/100\n",
      "256/256 [==============================] - 0s 221us/step - loss: 0.0134 - mean_absolute_error: 0.0649 - val_loss: 0.5016 - val_mean_absolute_error: 0.5089\n",
      "Epoch 84/100\n",
      "256/256 [==============================] - 0s 206us/step - loss: 0.0133 - mean_absolute_error: 0.0658 - val_loss: 0.5009 - val_mean_absolute_error: 0.5084\n",
      "Epoch 85/100\n",
      "256/256 [==============================] - 0s 323us/step - loss: 0.0132 - mean_absolute_error: 0.0649 - val_loss: 0.4999 - val_mean_absolute_error: 0.5086\n",
      "Epoch 86/100\n",
      "256/256 [==============================] - 0s 479us/step - loss: 0.0131 - mean_absolute_error: 0.0655 - val_loss: 0.4978 - val_mean_absolute_error: 0.5079\n",
      "Epoch 87/100\n",
      "256/256 [==============================] - 0s 150us/step - loss: 0.0131 - mean_absolute_error: 0.0640 - val_loss: 0.4972 - val_mean_absolute_error: 0.5070\n",
      "Epoch 88/100\n",
      "256/256 [==============================] - 0s 293us/step - loss: 0.0129 - mean_absolute_error: 0.0647 - val_loss: 0.4950 - val_mean_absolute_error: 0.5092\n",
      "Epoch 89/100\n",
      "256/256 [==============================] - 0s 311us/step - loss: 0.0127 - mean_absolute_error: 0.0651 - val_loss: 0.4933 - val_mean_absolute_error: 0.5072\n",
      "Epoch 90/100\n",
      "256/256 [==============================] - 0s 111us/step - loss: 0.0125 - mean_absolute_error: 0.0640 - val_loss: 0.4929 - val_mean_absolute_error: 0.5073\n",
      "Epoch 91/100\n",
      "256/256 [==============================] - 0s 321us/step - loss: 0.0127 - mean_absolute_error: 0.0639 - val_loss: 0.4917 - val_mean_absolute_error: 0.5067\n",
      "Epoch 92/100\n",
      "256/256 [==============================] - 0s 260us/step - loss: 0.0124 - mean_absolute_error: 0.0627 - val_loss: 0.4906 - val_mean_absolute_error: 0.5064\n",
      "Epoch 93/100\n",
      "256/256 [==============================] - 0s 281us/step - loss: 0.0123 - mean_absolute_error: 0.0634 - val_loss: 0.4890 - val_mean_absolute_error: 0.5069\n",
      "Epoch 94/100\n",
      "256/256 [==============================] - 0s 203us/step - loss: 0.0124 - mean_absolute_error: 0.0642 - val_loss: 0.4871 - val_mean_absolute_error: 0.5074\n",
      "Epoch 95/100\n",
      "256/256 [==============================] - 0s 456us/step - loss: 0.0121 - mean_absolute_error: 0.0635 - val_loss: 0.4861 - val_mean_absolute_error: 0.5061\n",
      "Epoch 96/100\n",
      "256/256 [==============================] - 0s 338us/step - loss: 0.0120 - mean_absolute_error: 0.0627 - val_loss: 0.4842 - val_mean_absolute_error: 0.5061\n",
      "Epoch 97/100\n",
      "256/256 [==============================] - 0s 160us/step - loss: 0.0118 - mean_absolute_error: 0.0624 - val_loss: 0.4829 - val_mean_absolute_error: 0.5050\n",
      "Epoch 98/100\n",
      "256/256 [==============================] - 0s 121us/step - loss: 0.0118 - mean_absolute_error: 0.0624 - val_loss: 0.4811 - val_mean_absolute_error: 0.5052\n",
      "Epoch 99/100\n",
      "256/256 [==============================] - 0s 145us/step - loss: 0.0118 - mean_absolute_error: 0.0623 - val_loss: 0.4798 - val_mean_absolute_error: 0.5031\n",
      "Epoch 100/100\n",
      "256/256 [==============================] - 0s 110us/step - loss: 0.0116 - mean_absolute_error: 0.0616 - val_loss: 0.4779 - val_mean_absolute_error: 0.5061\n"
     ]
    },
    {
     "data": {
      "text/plain": [
       "<keras.callbacks.History at 0x19006376c50>"
      ]
     },
     "execution_count": 32,
     "metadata": {},
     "output_type": "execute_result"
    }
   ],
   "source": [
    "classifier = Sequential()\n",
    "classifier.add(Dense(output_dim = 18, init = 'uniform', activation = 'relu', input_dim = input_neuron))\n",
    "classifier.add(Dense(output_dim = 6, init = 'uniform', activation = 'relu'))\n",
    "classifier.add(Dense(output_dim = 6, init = 'uniform', activation = 'relu'))\n",
    "classifier.add(Dense(output_dim = 1, init = 'uniform', activation = 'linear'))\n",
    "\n",
    "classifier.compile(optimizer = 'adam', loss = 'mean_squared_error', metrics = [\"mae\"])\n",
    "\n",
    "classifier.fit(X_train, y_train, batch_size = 30, nb_epoch = 100, validation_split= 0.2)\n"
   ]
  },
  {
   "cell_type": "code",
   "execution_count": 47,
   "metadata": {},
   "outputs": [],
   "source": [
    "if os.path.exists(\"./model\") is False:\n",
    "    os.mkdir(\"./model\")\n",
    "pickle.dump(classifier, open(\"./model/ANN.pkl\", \"wb\"))"
   ]
  },
  {
   "cell_type": "code",
   "execution_count": 33,
   "metadata": {},
   "outputs": [],
   "source": [
    "test_x[\"TVD_pred\"] = sc_y.inverse_transform(classifier.predict(X_test))"
   ]
  },
  {
   "cell_type": "code",
   "execution_count": 34,
   "metadata": {},
   "outputs": [],
   "source": [
    "df = pd.concat([test_x, test_y], axis=1)\n",
    "df.rename(columns={\"Z\": \"TVD\"}, inplace=True)\n",
    "df[\"model_error\"] = df.TVD -  df.TVD_pred"
   ]
  },
  {
   "cell_type": "code",
   "execution_count": 35,
   "metadata": {},
   "outputs": [
    {
     "name": "stdout",
     "output_type": "stream",
     "text": [
      "XGBoost MAE score: 121.0m\n",
      "XGBoost R2 socre: 0.9958\n"
     ]
    }
   ],
   "source": [
    "print(f\"XGBoost MAE score: {np.round(mean_absolute_error(df.TVD, df.TVD_pred))}m\")\n",
    "print(f\"XGBoost R2 socre: {np.round(r2_score(df.TVD, df.TVD_pred), 4)}\")"
   ]
  },
  {
   "cell_type": "code",
   "execution_count": 36,
   "metadata": {},
   "outputs": [],
   "source": [
    "plt.style.use(\"ggplot\")"
   ]
  },
  {
   "cell_type": "code",
   "execution_count": 37,
   "metadata": {},
   "outputs": [
    {
     "data": {
      "image/png": "[encoded data removed]",
      "text/plain": [
       "<Figure size 576x576 with 1 Axes>"
      ]
     },
     "metadata": {},
     "output_type": "display_data"
    }
   ],
   "source": [
    "plt.style.use('ggplot')\n",
    "plt.figure(figsize=(8, 8))\n",
    "plt.hist(df[\"model_error\"], bins=np.arange(-200, 200,25))\n",
    "plt.xlabel(\"Prediction error (m)\")\n",
    "plt.show()"
   ]
  },
  {
   "cell_type": "code",
   "execution_count": 38,
   "metadata": {},
   "outputs": [
    {
     "data": {
      "image/png": "[encoded data removed]",
      "text/plain": [
       "<Figure size 576x576 with 1 Axes>"
      ]
     },
     "metadata": {},
     "output_type": "display_data"
    }
   ],
   "source": [
    "plt.figure(figsize=(8, 8))\n",
    "plt.scatter(df.loc[df.TVD >1000].TVD, df.loc[df.TVD >1000].TVD_pred)\n",
    "plt.plot(df.loc[df.TVD >1000].TVD, df.loc[df.TVD >1000].TVD, color=\"black\", linestyle=\"--\")\n",
    "plt.xlabel(\"TVD\")\n",
    "plt.ylabel(\"predicted TVD\")\n",
    "plt.show()"
   ]
  },
  {
   "cell_type": "code",
   "execution_count": 52,
   "metadata": {},
   "outputs": [],
   "source": [
    "df_global = pd.read_csv(\"global_test_df.csv\")"
   ]
  },
  {
   "cell_type": "code",
   "execution_count": 53,
   "metadata": {},
   "outputs": [],
   "source": [
    "df_global.rename(columns={\"Z\":\"TVD\"}, inplace=True)\n",
    "df_global[\"TVD_pred\"] = df[\"TVD_pred\"]"
   ]
  },
  {
   "cell_type": "code",
   "execution_count": 54,
   "metadata": {},
   "outputs": [],
   "source": [
    "if os.path.exists(\"model_predictions\") is False:\n",
    "    os.mkdir(\"./model_predictions\")\n",
    "df_global.to_csv(\"./model_predictions/ann_predictions.csv\")"
   ]
  }
 ],
 "metadata": {
  "kernelspec": {
   "display_name": "Python 3",
   "language": "python",
   "name": "python3"
  },
  "language_info": {
   "codemirror_mode": {
    "name": "ipython",
    "version": 3
   },
   "file_extension": ".py",
   "mimetype": "text/x-python",
   "name": "python",
   "nbconvert_exporter": "python",
   "pygments_lexer": "ipython3",
   "version": "3.7.1"
  }
 },
 "nbformat": 4,
 "nbformat_minor": 2
}

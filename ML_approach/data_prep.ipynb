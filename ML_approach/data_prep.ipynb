{
 "cells": [
  {
   "cell_type": "markdown",
   "metadata": {},
   "source": [
    "<h1>PESGB AI conference</h1>\n",
    "<h3>Feature Engineering</h3>\n",
    "<p>The notebook below takes the raw Petrel export adn creates training, test and validation sets for training models in the next stage of the model pipeline and develpment</p>\n",
    "<br>\n",
    "<p>The raw data consists of the following feature</p>\n",
    "<ol>\n",
    "    <li style=\"color:red;\">X</li>\n",
    "    <li style=\"color:red;\">Y</li>\n",
    "    <li>Z</li>\n",
    "    <li>TWT picked</li>\n",
    "    <li>TWT auto</li>\n",
    "    <li>Geological age</li>\n",
    "    <li>MD</li>\n",
    "    <li style=\"color:red;\">Type</li>\n",
    "    <li style=\"color:red;\">Type</li>\n",
    "    <li>Surface</li>\n",
    "    <li>Well</li>\n",
    "    <li style=\"color:red;\">Interpreter</li>\n",
    "    <li>Dip azimuth</li>\n",
    "    <li>Missing</li>\n",
    "    <li>TVT</li>\n",
    "    <li>TST</li>\n",
    "    <li>TVT zone</li>\n",
    "    <li>TST zone</li>\n",
    "    <li>Observation number</li>\n",
    "    <li style=\"color:red;\">Used by dep.conv.</li>\n",
    "    <li style=\"color:red;\">Used by geo mod</li>\n",
    "    <li>Zone log</li>\n",
    "    <li style=\"color:red;\">Edited by user</li>\n",
    "    <li style=\"color:red;\">Symbol</li>\n",
    "    <li style=\"color:red;\">ULocked to fault</li>\n",
    "    <li>FLOAT,GR_min_Ichron</li>\n",
    "    <li>FLOAT,GR_max_Ichron</li>\n",
    "</ol>\n",
    "<br>\n",
    "</p>Feature names in red will be remove as they were defined as adding little information to the model. The remaining feautures will be evaluated through the notebook below. YOu will notice several of the remaining feautres contain a high proportion of null values. The fraction of null values will detemin which columns are kept.</p>"
   ]
  },
  {
   "cell_type": "markdown",
   "metadata": {},
   "source": [
    "<h5>Import dependancies</h5>\n",
    "<ul>\n",
    "    <li>pandas: feature extrapolation and extraction and creation</li>\n",
    "    <li>numpy: numerical data manipluation</li>\n",
    "    <li>os: interaction with the operating system</li>\n",
    "    <li>seaborn: plotting library</li>\n",
    "    <li>sklearn.model_selection.train_test_split: spliting the data into the various data sets (train, test and validation)</li>\n",
    "</ul>"
   ]
  },
  {
   "cell_type": "code",
   "execution_count": 16,
   "metadata": {},
   "outputs": [],
   "source": [
    "import pandas as pd\n",
    "import numpy as np\n",
    "import os\n",
    "import seaborn as sns\n",
    "from sklearn.model_selection import train_test_split"
   ]
  },
  {
   "cell_type": "markdown",
   "metadata": {},
   "source": [
    "<p>set key variables for the columns we know we dont kneed the target feature and the wells we want to include int he test set</p>"
   ]
  },
  {
   "cell_type": "code",
   "execution_count": 25,
   "metadata": {},
   "outputs": [],
   "source": [
    "DROP_COLUMNS = [\"X\",\n",
    "                \"Y\",\n",
    "                \"Type\",\n",
    "                \"Interpreter\",\n",
    "                \"Used by dep.conv.\",\n",
    "                \"Used by geo mod\", \n",
    "                \"Edited by user\",\n",
    "                \"Symbol\",\n",
    "                \"Locked to fault\"]\n",
    "\n",
    "TEST_WELLS = [\"22/9-2\", \"22/9-4\", \"22/15-3\", \"23/11-2\"]\n",
    "TARGET_FEATURE = \"MD\""
   ]
  },
  {
   "cell_type": "markdown",
   "metadata": {},
   "source": [
    "<p>set up the notebook so that pandas shows the whole dataset</p>"
   ]
  },
  {
   "cell_type": "code",
   "execution_count": 56,
   "metadata": {},
   "outputs": [],
   "source": [
    "pd.set_option(\"display.max_rows\", 600)\n",
    "pd.set_option(\"display.max_columns\", 600)"
   ]
  },
  {
   "cell_type": "markdown",
   "metadata": {},
   "source": [
    "</h2>Read in raw data</h2>\n",
    "\n",
    "<p>The raw file onsists of 34 lines which contain the header information. The first 5 lines however are not, as you can see these lines document information abuot the export. then next 27 lines contain the header names followed by a final line telling again documneting the end of the columns name (i.e END HEADER)</p>"
   ]
  },
  {
   "cell_type": "markdown",
   "metadata": {},
   "source": [
    "<p>FIrst read the file extracting the 27 lines which tell us the column names of the remaining file. These lines end with a new line character (\"/n\") so we use list comprehenssion to remove this leaving us with just the column name as a string</p>"
   ]
  },
  {
   "cell_type": "code",
   "execution_count": 4,
   "metadata": {},
   "outputs": [],
   "source": [
    "headers = [i.strip() for i in open(\"../Well_Tops\").readlines()[5:33]]"
   ]
  },
  {
   "cell_type": "markdown",
   "metadata": {},
   "source": [
    "<p>Now read the file. Make sure to skip the first 34 lines for the reasons documented above and set the column names to the headers variable above.</p>"
   ]
  },
  {
   "cell_type": "code",
   "execution_count": 5,
   "metadata": {},
   "outputs": [],
   "source": [
    "df = pd.read_csv(\"../Well_Tops\", delim_whitespace=True, skiprows =34, names=headers)"
   ]
  },
  {
   "cell_type": "markdown",
   "metadata": {},
   "source": [
    "<p>Pandas dosn't recognise petrels null values (-999.00) as representing a null value. The next cell takes the default petrel null values and replaces it the numpys numeric null values which pandas now knows how to handle</p>"
   ]
  },
  {
   "cell_type": "code",
   "execution_count": 6,
   "metadata": {},
   "outputs": [],
   "source": [
    "df.replace(to_replace=-999.00, value = np.nan, inplace=True)"
   ]
  },
  {
   "cell_type": "code",
   "execution_count": 7,
   "metadata": {},
   "outputs": [
    {
     "data": {
      "text/html": [
       "<div>\n",
       "<style scoped>\n",
       "    .dataframe tbody tr th:only-of-type {\n",
       "        vertical-align: middle;\n",
       "    }\n",
       "\n",
       "    .dataframe tbody tr th {\n",
       "        vertical-align: top;\n",
       "    }\n",
       "\n",
       "    .dataframe thead th {\n",
       "        text-align: right;\n",
       "    }\n",
       "</style>\n",
       "<table border=\"1\" class=\"dataframe\">\n",
       "  <thead>\n",
       "    <tr style=\"text-align: right;\">\n",
       "      <th></th>\n",
       "      <th>X</th>\n",
       "      <th>Y</th>\n",
       "      <th>Z</th>\n",
       "      <th>TWT picked</th>\n",
       "      <th>TWT auto</th>\n",
       "      <th>Geological age</th>\n",
       "      <th>MD</th>\n",
       "      <th>Type</th>\n",
       "      <th>Surface</th>\n",
       "      <th>Well</th>\n",
       "      <th>Interpreter</th>\n",
       "      <th>Confidence factor</th>\n",
       "      <th>Dip angle</th>\n",
       "      <th>Dip azimuth</th>\n",
       "      <th>Missing</th>\n",
       "      <th>TVT</th>\n",
       "      <th>TST</th>\n",
       "      <th>TVT zone</th>\n",
       "      <th>TST zone</th>\n",
       "      <th>Observation number</th>\n",
       "      <th>Used by dep.conv.</th>\n",
       "      <th>Used by geo mod</th>\n",
       "      <th>Zone log</th>\n",
       "      <th>Edited by user</th>\n",
       "      <th>Symbol</th>\n",
       "      <th>Locked to fault</th>\n",
       "      <th>FLOAT,GR_min_Ichron</th>\n",
       "      <th>FLOAT,GR_max_Ichron</th>\n",
       "    </tr>\n",
       "  </thead>\n",
       "  <tbody>\n",
       "    <tr>\n",
       "      <th>0</th>\n",
       "      <td>424537.68</td>\n",
       "      <td>6370208.09</td>\n",
       "      <td>-295.0</td>\n",
       "      <td>NaN</td>\n",
       "      <td>-117.91</td>\n",
       "      <td>NaN</td>\n",
       "      <td>376.00</td>\n",
       "      <td>Horizon</td>\n",
       "      <td>Seabed</td>\n",
       "      <td>22/19-2</td>\n",
       "      <td>jnasseri</td>\n",
       "      <td>NaN</td>\n",
       "      <td>NaN</td>\n",
       "      <td>NaN</td>\n",
       "      <td>NaN</td>\n",
       "      <td>NaN</td>\n",
       "      <td>NaN</td>\n",
       "      <td>NaN</td>\n",
       "      <td>NaN</td>\n",
       "      <td>NaN</td>\n",
       "      <td>True</td>\n",
       "      <td>True</td>\n",
       "      <td>0.0</td>\n",
       "      <td>False</td>\n",
       "      <td>0</td>\n",
       "      <td>0</td>\n",
       "      <td>NaN</td>\n",
       "      <td>NaN</td>\n",
       "    </tr>\n",
       "    <tr>\n",
       "      <th>1</th>\n",
       "      <td>434474.90</td>\n",
       "      <td>6370344.99</td>\n",
       "      <td>-301.0</td>\n",
       "      <td>NaN</td>\n",
       "      <td>-103.12</td>\n",
       "      <td>NaN</td>\n",
       "      <td>383.01</td>\n",
       "      <td>Horizon</td>\n",
       "      <td>Seabed</td>\n",
       "      <td>22/20-1</td>\n",
       "      <td>jnasseri</td>\n",
       "      <td>NaN</td>\n",
       "      <td>NaN</td>\n",
       "      <td>NaN</td>\n",
       "      <td>NaN</td>\n",
       "      <td>NaN</td>\n",
       "      <td>NaN</td>\n",
       "      <td>NaN</td>\n",
       "      <td>NaN</td>\n",
       "      <td>NaN</td>\n",
       "      <td>True</td>\n",
       "      <td>True</td>\n",
       "      <td>0.0</td>\n",
       "      <td>False</td>\n",
       "      <td>0</td>\n",
       "      <td>0</td>\n",
       "      <td>NaN</td>\n",
       "      <td>NaN</td>\n",
       "    </tr>\n",
       "    <tr>\n",
       "      <th>2</th>\n",
       "      <td>426909.76</td>\n",
       "      <td>6392021.43</td>\n",
       "      <td>-299.0</td>\n",
       "      <td>NaN</td>\n",
       "      <td>-127.13</td>\n",
       "      <td>NaN</td>\n",
       "      <td>381.00</td>\n",
       "      <td>Horizon</td>\n",
       "      <td>Seabed</td>\n",
       "      <td>22/14a-2</td>\n",
       "      <td>jnasseri</td>\n",
       "      <td>NaN</td>\n",
       "      <td>NaN</td>\n",
       "      <td>NaN</td>\n",
       "      <td>NaN</td>\n",
       "      <td>NaN</td>\n",
       "      <td>NaN</td>\n",
       "      <td>NaN</td>\n",
       "      <td>NaN</td>\n",
       "      <td>NaN</td>\n",
       "      <td>True</td>\n",
       "      <td>True</td>\n",
       "      <td>0.0</td>\n",
       "      <td>False</td>\n",
       "      <td>0</td>\n",
       "      <td>0</td>\n",
       "      <td>NaN</td>\n",
       "      <td>NaN</td>\n",
       "    </tr>\n",
       "    <tr>\n",
       "      <th>3</th>\n",
       "      <td>425400.32</td>\n",
       "      <td>6397019.92</td>\n",
       "      <td>-302.0</td>\n",
       "      <td>NaN</td>\n",
       "      <td>-119.53</td>\n",
       "      <td>NaN</td>\n",
       "      <td>384.00</td>\n",
       "      <td>Horizon</td>\n",
       "      <td>Seabed</td>\n",
       "      <td>22/9-4</td>\n",
       "      <td>jnasseri</td>\n",
       "      <td>NaN</td>\n",
       "      <td>NaN</td>\n",
       "      <td>NaN</td>\n",
       "      <td>NaN</td>\n",
       "      <td>NaN</td>\n",
       "      <td>NaN</td>\n",
       "      <td>NaN</td>\n",
       "      <td>NaN</td>\n",
       "      <td>NaN</td>\n",
       "      <td>True</td>\n",
       "      <td>True</td>\n",
       "      <td>0.0</td>\n",
       "      <td>False</td>\n",
       "      <td>0</td>\n",
       "      <td>0</td>\n",
       "      <td>NaN</td>\n",
       "      <td>NaN</td>\n",
       "    </tr>\n",
       "    <tr>\n",
       "      <th>4</th>\n",
       "      <td>423256.76</td>\n",
       "      <td>6389768.98</td>\n",
       "      <td>-295.0</td>\n",
       "      <td>NaN</td>\n",
       "      <td>-142.56</td>\n",
       "      <td>NaN</td>\n",
       "      <td>401.00</td>\n",
       "      <td>Horizon</td>\n",
       "      <td>Seabed</td>\n",
       "      <td>22/14a-7</td>\n",
       "      <td>jnasseri</td>\n",
       "      <td>NaN</td>\n",
       "      <td>NaN</td>\n",
       "      <td>NaN</td>\n",
       "      <td>NaN</td>\n",
       "      <td>NaN</td>\n",
       "      <td>NaN</td>\n",
       "      <td>NaN</td>\n",
       "      <td>NaN</td>\n",
       "      <td>NaN</td>\n",
       "      <td>True</td>\n",
       "      <td>True</td>\n",
       "      <td>0.0</td>\n",
       "      <td>False</td>\n",
       "      <td>0</td>\n",
       "      <td>0</td>\n",
       "      <td>NaN</td>\n",
       "      <td>NaN</td>\n",
       "    </tr>\n",
       "  </tbody>\n",
       "</table>\n",
       "</div>"
      ],
      "text/plain": [
       "           X           Y      Z  TWT picked  TWT auto  Geological age      MD  \\\n",
       "0  424537.68  6370208.09 -295.0         NaN   -117.91             NaN  376.00   \n",
       "1  434474.90  6370344.99 -301.0         NaN   -103.12             NaN  383.01   \n",
       "2  426909.76  6392021.43 -299.0         NaN   -127.13             NaN  381.00   \n",
       "3  425400.32  6397019.92 -302.0         NaN   -119.53             NaN  384.00   \n",
       "4  423256.76  6389768.98 -295.0         NaN   -142.56             NaN  401.00   \n",
       "\n",
       "      Type Surface      Well Interpreter  Confidence factor  Dip angle  \\\n",
       "0  Horizon  Seabed   22/19-2    jnasseri                NaN        NaN   \n",
       "1  Horizon  Seabed   22/20-1    jnasseri                NaN        NaN   \n",
       "2  Horizon  Seabed  22/14a-2    jnasseri                NaN        NaN   \n",
       "3  Horizon  Seabed    22/9-4    jnasseri                NaN        NaN   \n",
       "4  Horizon  Seabed  22/14a-7    jnasseri                NaN        NaN   \n",
       "\n",
       "   Dip azimuth  Missing  TVT  TST  TVT zone  TST zone  Observation number  \\\n",
       "0          NaN      NaN  NaN  NaN       NaN       NaN                 NaN   \n",
       "1          NaN      NaN  NaN  NaN       NaN       NaN                 NaN   \n",
       "2          NaN      NaN  NaN  NaN       NaN       NaN                 NaN   \n",
       "3          NaN      NaN  NaN  NaN       NaN       NaN                 NaN   \n",
       "4          NaN      NaN  NaN  NaN       NaN       NaN                 NaN   \n",
       "\n",
       "   Used by dep.conv.  Used by geo mod  Zone log  Edited by user  Symbol  \\\n",
       "0               True             True       0.0           False       0   \n",
       "1               True             True       0.0           False       0   \n",
       "2               True             True       0.0           False       0   \n",
       "3               True             True       0.0           False       0   \n",
       "4               True             True       0.0           False       0   \n",
       "\n",
       "   Locked to fault  FLOAT,GR_min_Ichron  FLOAT,GR_max_Ichron  \n",
       "0                0                  NaN                  NaN  \n",
       "1                0                  NaN                  NaN  \n",
       "2                0                  NaN                  NaN  \n",
       "3                0                  NaN                  NaN  \n",
       "4                0                  NaN                  NaN  "
      ]
     },
     "execution_count": 7,
     "metadata": {},
     "output_type": "execute_result"
    }
   ],
   "source": [
    "df.head()"
   ]
  },
  {
   "cell_type": "markdown",
   "metadata": {},
   "source": [
    "<p>IN the cell below we look to see what fraction of the data in each column is null. If there is greated than 60% (0.6) of data in a column which is null we drop the column</p>"
   ]
  },
  {
   "cell_type": "code",
   "execution_count": 8,
   "metadata": {},
   "outputs": [],
   "source": [
    "for i in df.columns:\n",
    "    frac_null = df[i].isna().sum() /len(df)  \n",
    "    if frac_null > 0.6:\n",
    "        df.drop(columns=i, inplace=True)"
   ]
  },
  {
   "cell_type": "markdown",
   "metadata": {},
   "source": [
    "<p>Now we drop the aditional columns which we identified above as not providing valuable inforation with regards to the values we're trying to predict</p>"
   ]
  },
  {
   "cell_type": "code",
   "execution_count": 9,
   "metadata": {},
   "outputs": [],
   "source": [
    "df.drop(columns=DROP_COLUMNS, inplace=True)"
   ]
  },
  {
   "cell_type": "markdown",
   "metadata": {},
   "source": [
    "<p>Using seaborns pairplot function we can view all the remaining feature to make sure we have data and the relationships look sensible</p>"
   ]
  },
  {
   "cell_type": "code",
   "execution_count": 10,
   "metadata": {},
   "outputs": [
    {
     "name": "stderr",
     "output_type": "stream",
     "text": [
      "C:\\Users\\DR25798\\AppData\\Local\\Continuum\\anaconda3\\lib\\site-packages\\numpy\\lib\\histograms.py:839: RuntimeWarning: invalid value encountered in greater_equal\n",
      "  keep = (tmp_a >= first_edge)\n",
      "C:\\Users\\DR25798\\AppData\\Local\\Continuum\\anaconda3\\lib\\site-packages\\numpy\\lib\\histograms.py:840: RuntimeWarning: invalid value encountered in less_equal\n",
      "  keep &= (tmp_a <= last_edge)\n"
     ]
    },
    {
     "data": {
      "text/plain": [
       "<seaborn.axisgrid.PairGrid at 0x21316092e48>"
      ]
     },
     "execution_count": 10,
     "metadata": {},
     "output_type": "execute_result"
    },
    {
     "data": {
      "image/png": "[encoded data removed]",
      "text/plain": [
       "<Figure size 720x720 with 20 Axes>"
      ]
     },
     "metadata": {
      "needs_background": "light"
     },
     "output_type": "display_data"
    }
   ],
   "source": [
    "sns.pairplot(df)"
   ]
  },
  {
   "cell_type": "markdown",
   "metadata": {},
   "source": [
    "<p>now we split the data into the test and train sets</p>"
   ]
  },
  {
   "cell_type": "code",
   "execution_count": 11,
   "metadata": {},
   "outputs": [],
   "source": [
    "df_test = df.loc[df.Well.isin(TEST_WELLS)].reset_index()\n",
    "df_train = df.loc[~df.Well.isin(TEST_WELLS)].reset_index()"
   ]
  },
  {
   "cell_type": "markdown",
   "metadata": {},
   "source": [
    "<p>The ML models we're going to use only take in numerical inputs so we must first convert all categorical data to dummy variables. This proceess piviots the data such that each item in categorical column becomes a new column with a 0 if that catogory isn't true or a 1 if it is true</p>"
   ]
  },
  {
   "cell_type": "code",
   "execution_count": 131,
   "metadata": {},
   "outputs": [],
   "source": [
    "df_train = pd.get_dummies(data=df_train, columns=[\"Surface\", \"Well\"], drop_first =True)\n",
    "df_test = pd.get_dummies(data=df_test, columns=[\"Surface\", \"Well\"], drop_first =True)"
   ]
  },
  {
   "cell_type": "markdown",
   "metadata": {},
   "source": [
    "<p>Check to see if we have a suitable place to store the data. If we dont lets set up a suitable place in the directory to output the data</p>"
   ]
  },
  {
   "cell_type": "code",
   "execution_count": 15,
   "metadata": {},
   "outputs": [],
   "source": [
    "folder_create = os.path.exists(\"data\")\n",
    "if folder_create is False:\n",
    "    os.mkdir(\"./data\")\n",
    "    os.mkdir(\"./data/train\")\n",
    "    os.mkdir(\"./data/test\")\n",
    "    os.mkdir(\"./data/validation\")"
   ]
  },
  {
   "cell_type": "markdown",
   "metadata": {},
   "source": [
    "<p>We're done witht hte test set for the time being so we will out putthis to the newly created test set folder and retun later to this data for as a blind test</p>"
   ]
  },
  {
   "cell_type": "code",
   "execution_count": 54,
   "metadata": {},
   "outputs": [],
   "source": [
    "df_test.to_csv(\"./data/test/test.csv\", index=False)"
   ]
  },
  {
   "cell_type": "markdown",
   "metadata": {},
   "source": [
    "<p>Create a list of the feature we want to train the model on excluding the target feature</p>"
   ]
  },
  {
   "cell_type": "code",
   "execution_count": 42,
   "metadata": {},
   "outputs": [],
   "source": [
    "train_feat = list(df_train)\n",
    "train_feat.remove(TARGET_FEATURE)"
   ]
  },
  {
   "cell_type": "markdown",
   "metadata": {},
   "source": [
    "<p>use the above variable to then create dataframces for the dependant (what we want to predict) and independat varaible (features)</p>"
   ]
  },
  {
   "cell_type": "code",
   "execution_count": 57,
   "metadata": {},
   "outputs": [],
   "source": [
    "df_train_feat = df_train.loc[: , train_feat]\n",
    "df_train_target = df_train.loc[: , TARGET_FEATURE]"
   ]
  },
  {
   "cell_type": "markdown",
   "metadata": {},
   "source": [
    "<p>This data then gets split into train and validation sets. Training set is what we use to train the model and the validation set is what we can use to optimise the model parametres</p>"
   ]
  },
  {
   "cell_type": "code",
   "execution_count": 50,
   "metadata": {},
   "outputs": [],
   "source": [
    "X_train, X_validation, y_train, y_validation = train_test_split(df_train_feat,\n",
    "                                                                df_train_target,\n",
    "                                                                test_size=0.33,\n",
    "                                                                random_state=42)"
   ]
  },
  {
   "cell_type": "markdown",
   "metadata": {},
   "source": [
    "<p>finaly output the data to the created local directories</p>"
   ]
  },
  {
   "cell_type": "code",
   "execution_count": 55,
   "metadata": {},
   "outputs": [],
   "source": [
    "X_train.to_csv(\"./data/train/train_x.csv\", index=False)\n",
    "y_train.to_csv(\"./data/train/train_y.csv\", index=False)\n",
    "X_validation.to_csv(\"./data/validation/validation_x.csv\", index=False)\n",
    "y_validation.to_csv(\"./data/validation/validation_y.csv\", index=False)"
   ]
  },
  {
   "cell_type": "code",
   "execution_count": null,
   "metadata": {},
   "outputs": [],
   "source": []
  }
 ],
 "metadata": {
  "kernelspec": {
   "display_name": "Python 3",
   "language": "python",
   "name": "python3"
  },
  "language_info": {
   "codemirror_mode": {
    "name": "ipython",
    "version": 3
   },
   "file_extension": ".py",
   "mimetype": "text/x-python",
   "name": "python",
   "nbconvert_exporter": "python",
   "pygments_lexer": "ipython3",
   "version": "3.7.1"
  }
 },
 "nbformat": 4,
 "nbformat_minor": 2
}

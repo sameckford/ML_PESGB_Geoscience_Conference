{
 "cells": [
  {
   "cell_type": "code",
   "execution_count": 1,
   "metadata": {},
   "outputs": [],
   "source": [
    "import os\n",
    "import numpy as np\n",
    "import pandas as pd\n",
    "import matplotlib.pyplot as plt\n",
    "import time\n",
    "\n",
    "from sklearn.impute import SimpleImputer\n",
    "from sklearn.preprocessing import LabelEncoder, OneHotEncoder\n",
    "from sklearn.model_selection import train_test_split\n",
    "from sklearn.preprocessing import StandardScaler\n",
    "import copy as cp\n",
    "from sklearn.linear_model import LinearRegression\n",
    "from sklearn.preprocessing import PolynomialFeatures"
   ]
  },
  {
   "cell_type": "code",
   "execution_count": 2,
   "metadata": {},
   "outputs": [],
   "source": [
    "# Import well tops dataframe, columns should be the format - ['Well_Name', 'Surface', 'X', 'Y', 'Z', 'MD', 'TWT_Picked', 'Z_depth', 'Vint', 'TWT_Auto']\n",
    "tops_columns = ['Well_Name', 'Surface', 'X', 'Y', 'Z', 'MD', 'TWT_Picked', 'Z_depth', 'Vint', 'TWT_Auto']\n",
    "headers = [i.strip() for i in open(\"../Well_Tops\").readlines()[5:33]]\n",
    "well_master_df = pd.read_csv(\"../Well_Tops\", delim_whitespace=True, skiprows =34, names=headers)\n",
    "\n",
    "WELL_TEST = [\"22/9-4\", \"23/21a-8\",\"23/21-5\",\"22/15-3\",\"23/21-6\",\"22/10b-6\",\"22/10a-4\", \"23/11-2\",\"22/14b-6X\",\"22/14b-6U\",\n",
    "             \"23/6-1\",\"22/14b-6W\",\"22/14b-9\", \"22/14b-6V\",\"22/14b-6S\", \"22/15-4\", \"22/14b-6T\",\"22/14b-9Z\",\"22/14b-6Q\",\n",
    "             \"23/16b-9\",\"23/16f-11\",\"22/14b-8\",\"23/21-7Z\",\"22/14b-6Y\",\"22/19b-4\",\"23/16f-12\",\"23/21-7\",\"22/13b-7Z\",\"23/21-1\"]\n",
    "\n",
    "TOPS ='TWT_Auto'"
   ]
  },
  {
   "cell_type": "code",
   "execution_count": 3,
   "metadata": {},
   "outputs": [],
   "source": [
    "well_master_df.rename(columns={\"TWT auto\": TOPS, \"TWT picked\": \"TWT_Picked\", \"Z\":\"Z_depth\"}, inplace=True)\n",
    "well_master_df[\"Z_depth\"] = well_master_df[\"Z_depth\"] * -1"
   ]
  },
  {
   "cell_type": "code",
   "execution_count": 4,
   "metadata": {},
   "outputs": [],
   "source": [
    "well_master_df[TOPS] = (well_master_df[TOPS] /1000)*-1"
   ]
  },
  {
   "cell_type": "code",
   "execution_count": 5,
   "metadata": {},
   "outputs": [],
   "source": [
    "nunique_df = well_master_df.groupby('Surface')['X'].nunique()\n",
    "well_master_df[['TWT_Picked', 'TWT_Auto']] = well_master_df[['TWT_Picked', 'TWT_Auto']] \n",
    "well_master_df[\"Z_depth\"] = well_master_df[\"Z_depth\"]*0.3048\n",
    "well_master_df.drop(columns=[\"MD\", \"X\", \"Y\", \"TWT_Picked\"], inplace=True)"
   ]
  },
  {
   "cell_type": "code",
   "execution_count": 6,
   "metadata": {},
   "outputs": [],
   "source": [
    "well_master_df[[\"Z_depth_T-1\", 'TWT_Auto_T-1']] = well_master_df.sort_values(\"Z_depth\",ascending=True).groupby(\"Well\")[[\"Z_depth\",'TWT_Auto']].shift(1)"
   ]
  },
  {
   "cell_type": "code",
   "execution_count": 7,
   "metadata": {},
   "outputs": [],
   "source": [
    "well_master_df[\"Z_depth_T-1\"].fillna(value=0, inplace =True)\n",
    "well_master_df[\"TWT_Auto_T-1\"].fillna(value=0, inplace =True)"
   ]
  },
  {
   "cell_type": "code",
   "execution_count": 8,
   "metadata": {},
   "outputs": [],
   "source": [
    "# well_master_df[\"isochron_picked\"] = (well_master_df[\"TWT_Picked\"]*0.5)-(well_master_df[\"TWT_Picked_T-1\"]*0.5)\n",
    "well_master_df[\"isochron_auto\"] = (well_master_df[\"TWT_Auto\"]*0.5)-(well_master_df[\"TWT_Auto_T-1\"]*0.5)\n",
    "\n",
    "well_master_df[\"ischore\"] = well_master_df[\"Z_depth\"]-well_master_df[\"Z_depth_T-1\"]\n",
    "\n",
    "# well_master_df[\"int_vel_Picked\"] = well_master_df[\"ischore\"] / well_master_df[\"isochron_picked\"] \n",
    "well_master_df[\"Vint_int\"] = well_master_df[\"ischore\"] / well_master_df[\"isochron_auto\"] \n",
    "well_master_df[\"Vint_int\"].fillna(0, inplace=True)"
   ]
  },
  {
   "cell_type": "code",
   "execution_count": 9,
   "metadata": {},
   "outputs": [],
   "source": [
    "well_master_df[\"mid-point_Z\"] = (well_master_df[\"ischore\"] /2) + well_master_df[\"Z_depth_T-1\"]\n",
    "df_train_global = well_master_df.loc[~well_master_df[\"Well\"].isin(WELL_TEST)]\n",
    "df_test_global = well_master_df.loc[well_master_df[\"Well\"].isin(WELL_TEST)]"
   ]
  },
  {
   "cell_type": "code",
   "execution_count": 10,
   "metadata": {},
   "outputs": [],
   "source": [
    "df_dummys = pd.get_dummies(well_master_df, columns=[\"Surface\"], prefix=[\"IS_SURFACE_\"])"
   ]
  },
  {
   "cell_type": "code",
   "execution_count": 11,
   "metadata": {},
   "outputs": [],
   "source": [
    "df_final = df_dummys"
   ]
  },
  {
   "cell_type": "code",
   "execution_count": 12,
   "metadata": {},
   "outputs": [],
   "source": [
    "df_final[\"Wells\"] = well_master_df[\"Well\"]\n",
    "df_train = df_final.loc[~df_final.Wells.isin(WELL_TEST)]\n",
    "df_test = df_final.loc[df_final.Wells.isin(WELL_TEST)]"
   ]
  },
  {
   "cell_type": "code",
   "execution_count": 13,
   "metadata": {},
   "outputs": [],
   "source": [
    "dummy_cols = [i for i in df_final.columns if \"IS_SURFACE_\" in i or \"IS_WELL_\" in i]"
   ]
  },
  {
   "cell_type": "code",
   "execution_count": 14,
   "metadata": {},
   "outputs": [],
   "source": [
    "def func_fitting(X_series, y_series, df, regressor = LinearRegression):\n",
    "#     X_temp = np.array(df[X_series]).reshape(len(is_df_well),1)\n",
    "#     y_temp = np.array(df[y_series]).reshape(len(is_df_well),1)\n",
    "    \n",
    "    regressor_temp = LinearRegression()\n",
    "    regressor_temp.fit(df[X_series].values, df[y_series].values)\n",
    "    return regressor_temp"
   ]
  },
  {
   "cell_type": "code",
   "execution_count": 15,
   "metadata": {},
   "outputs": [],
   "source": [
    "training_cols_TWT_auto = cp.deepcopy(dummy_cols)\n",
    "training_cols_TWT_auto.append('TWT_Auto')\n",
    "training_cols_mid_point_Z = cp.deepcopy(dummy_cols)\n",
    "training_cols_mid_point_Z.append('mid-point_Z')"
   ]
  },
  {
   "cell_type": "code",
   "execution_count": 16,
   "metadata": {},
   "outputs": [],
   "source": [
    "regressor_t_z_depth = func_fitting(training_cols_TWT_auto, 'Z_depth', df_train)"
   ]
  },
  {
   "cell_type": "code",
   "execution_count": 17,
   "metadata": {},
   "outputs": [],
   "source": [
    "# regressor_mz_depth = func_fitting(training_cols_mid_point_Z, 'Z_depth', df_train)"
   ]
  },
  {
   "cell_type": "code",
   "execution_count": 18,
   "metadata": {},
   "outputs": [],
   "source": [
    "# regressor_mz_vint = func_fitting(training_cols_mid_point_Z, 'Vint_int', df_train)"
   ]
  },
  {
   "cell_type": "code",
   "execution_count": 19,
   "metadata": {},
   "outputs": [],
   "source": [
    "regressor_t_vint = func_fitting(training_cols_TWT_auto, 'Vint_int', df_train)"
   ]
  },
  {
   "cell_type": "code",
   "execution_count": 20,
   "metadata": {},
   "outputs": [
    {
     "name": "stderr",
     "output_type": "stream",
     "text": [
      "C:\\Users\\DR25798\\AppData\\Local\\Continuum\\anaconda3\\lib\\site-packages\\ipykernel_launcher.py:1: SettingWithCopyWarning: \n",
      "A value is trying to be set on a copy of a slice from a DataFrame.\n",
      "Try using .loc[row_indexer,col_indexer] = value instead\n",
      "\n",
      "See the caveats in the documentation: http://pandas.pydata.org/pandas-docs/stable/indexing.html#indexing-view-versus-copy\n",
      "  \"\"\"Entry point for launching an IPython kernel.\n"
     ]
    }
   ],
   "source": [
    "df_test_global[\"TVD_pred\"] = regressor_t_z_depth.predict(df_test[training_cols_TWT_auto].values) / 0.3048"
   ]
  },
  {
   "cell_type": "code",
   "execution_count": 21,
   "metadata": {},
   "outputs": [
    {
     "name": "stderr",
     "output_type": "stream",
     "text": [
      "C:\\Users\\DR25798\\AppData\\Local\\Continuum\\anaconda3\\lib\\site-packages\\pandas\\core\\frame.py:3781: SettingWithCopyWarning: \n",
      "A value is trying to be set on a copy of a slice from a DataFrame\n",
      "\n",
      "See the caveats in the documentation: http://pandas.pydata.org/pandas-docs/stable/indexing.html#indexing-view-versus-copy\n",
      "  return super(DataFrame, self).rename(**kwargs)\n",
      "C:\\Users\\DR25798\\AppData\\Local\\Continuum\\anaconda3\\lib\\site-packages\\ipykernel_launcher.py:4: SettingWithCopyWarning: \n",
      "A value is trying to be set on a copy of a slice from a DataFrame.\n",
      "Try using .loc[row_indexer,col_indexer] = value instead\n",
      "\n",
      "See the caveats in the documentation: http://pandas.pydata.org/pandas-docs/stable/indexing.html#indexing-view-versus-copy\n",
      "  after removing the cwd from sys.path.\n"
     ]
    }
   ],
   "source": [
    "if os.path.exists(\"./data\") is False:\n",
    "    os.makedirs(\"./data\")\n",
    "df_test_global.rename(columns ={\"Z_depth\":\"TVD\"}, inplace=True)\n",
    "df_test_global[\"TVD\"] = df_test_global.TVD / 0.3048\n",
    "df_test_global.to_csv(\"data/test_tZ_prediction.csv\")"
   ]
  },
  {
   "cell_type": "code",
   "execution_count": 22,
   "metadata": {},
   "outputs": [],
   "source": [
    "df_test_global2 = df_test_global.drop(columns=\"TVD_pred\").copy()"
   ]
  },
  {
   "cell_type": "code",
   "execution_count": 23,
   "metadata": {},
   "outputs": [],
   "source": [
    "df_test_global2[\"pred_isochore\"] = regressor_t_vint.predict(df_test[training_cols_TWT_auto].values) * df_test_global2[\"isochron_auto\"]"
   ]
  },
  {
   "cell_type": "code",
   "execution_count": 24,
   "metadata": {},
   "outputs": [],
   "source": [
    "df_test_global2[\"TVD_pred\"] = df_test_global2.sort_values(\"TVD\", ascending=True).groupby(\"Well\")[\"pred_isochore\"].cumsum()\n",
    "df_test_global2[\"TVD_pred\"] = df_test_global2[\"TVD_pred\"] / 0.3048"
   ]
  },
  {
   "cell_type": "code",
   "execution_count": 30,
   "metadata": {},
   "outputs": [
    {
     "data": {
      "text/html": [
       "<div>\n",
       "<style scoped>\n",
       "    .dataframe tbody tr th:only-of-type {\n",
       "        vertical-align: middle;\n",
       "    }\n",
       "\n",
       "    .dataframe tbody tr th {\n",
       "        vertical-align: top;\n",
       "    }\n",
       "\n",
       "    .dataframe thead th {\n",
       "        text-align: right;\n",
       "    }\n",
       "</style>\n",
       "<table border=\"1\" class=\"dataframe\">\n",
       "  <thead>\n",
       "    <tr style=\"text-align: right;\">\n",
       "      <th></th>\n",
       "      <th>Surface</th>\n",
       "      <th>TVD</th>\n",
       "      <th>TVD_pred</th>\n",
       "    </tr>\n",
       "  </thead>\n",
       "  <tbody>\n",
       "    <tr>\n",
       "      <th>3</th>\n",
       "      <td>Seabed</td>\n",
       "      <td>302.00</td>\n",
       "      <td>319.818925</td>\n",
       "    </tr>\n",
       "    <tr>\n",
       "      <th>39</th>\n",
       "      <td>Horda Fm</td>\n",
       "      <td>6393.66</td>\n",
       "      <td>6114.687030</td>\n",
       "    </tr>\n",
       "    <tr>\n",
       "      <th>72</th>\n",
       "      <td>Balder Fm</td>\n",
       "      <td>7973.54</td>\n",
       "      <td>7896.052507</td>\n",
       "    </tr>\n",
       "    <tr>\n",
       "      <th>84</th>\n",
       "      <td>Balder Tuff</td>\n",
       "      <td>8096.53</td>\n",
       "      <td>8112.030386</td>\n",
       "    </tr>\n",
       "    <tr>\n",
       "      <th>122</th>\n",
       "      <td>Sele Fm</td>\n",
       "      <td>8194.53</td>\n",
       "      <td>8111.683180</td>\n",
       "    </tr>\n",
       "    <tr>\n",
       "      <th>160</th>\n",
       "      <td>Top Forties</td>\n",
       "      <td>8453.52</td>\n",
       "      <td>8413.247196</td>\n",
       "    </tr>\n",
       "    <tr>\n",
       "      <th>217</th>\n",
       "      <td>Lista Fm</td>\n",
       "      <td>8667.50</td>\n",
       "      <td>8613.766303</td>\n",
       "    </tr>\n",
       "    <tr>\n",
       "      <th>235</th>\n",
       "      <td>Mey Sst Mb</td>\n",
       "      <td>8700.50</td>\n",
       "      <td>8622.695299</td>\n",
       "    </tr>\n",
       "    <tr>\n",
       "      <th>253</th>\n",
       "      <td>Maureen Fm</td>\n",
       "      <td>9536.36</td>\n",
       "      <td>9455.242168</td>\n",
       "    </tr>\n",
       "    <tr>\n",
       "      <th>405</th>\n",
       "      <td>TD</td>\n",
       "      <td>9737.32</td>\n",
       "      <td>10809.654344</td>\n",
       "    </tr>\n",
       "  </tbody>\n",
       "</table>\n",
       "</div>"
      ],
      "text/plain": [
       "         Surface      TVD      TVD_pred\n",
       "3         Seabed   302.00    319.818925\n",
       "39      Horda Fm  6393.66   6114.687030\n",
       "72     Balder Fm  7973.54   7896.052507\n",
       "84   Balder Tuff  8096.53   8112.030386\n",
       "122      Sele Fm  8194.53   8111.683180\n",
       "160  Top Forties  8453.52   8413.247196\n",
       "217     Lista Fm  8667.50   8613.766303\n",
       "235   Mey Sst Mb  8700.50   8622.695299\n",
       "253   Maureen Fm  9536.36   9455.242168\n",
       "405           TD  9737.32  10809.654344"
      ]
     },
     "execution_count": 30,
     "metadata": {},
     "output_type": "execute_result"
    }
   ],
   "source": [
    "df_test_global.loc[df_test_global2.Well == \"22/9-4\"].sort_values(\"TVD\")[[\"Surface\",\"TVD\", \"TVD_pred\"]]"
   ]
  },
  {
   "cell_type": "code",
   "execution_count": 26,
   "metadata": {},
   "outputs": [],
   "source": [
    "if os.path.exists(\"./data\") is False:\n",
    "    os.makedirs(\"./data\")\n",
    "df_test_global2.to_csv(\"data/test_vint_prediction.csv\")"
   ]
  },
  {
   "cell_type": "code",
   "execution_count": null,
   "metadata": {},
   "outputs": [],
   "source": []
  }
 ],
 "metadata": {
  "kernelspec": {
   "display_name": "Python 3",
   "language": "python",
   "name": "python3"
  },
  "language_info": {
   "codemirror_mode": {
    "name": "ipython",
    "version": 3
   },
   "file_extension": ".py",
   "mimetype": "text/x-python",
   "name": "python",
   "nbconvert_exporter": "python",
   "pygments_lexer": "ipython3",
   "version": "3.7.1"
  }
 },
 "nbformat": 4,
 "nbformat_minor": 2
}
